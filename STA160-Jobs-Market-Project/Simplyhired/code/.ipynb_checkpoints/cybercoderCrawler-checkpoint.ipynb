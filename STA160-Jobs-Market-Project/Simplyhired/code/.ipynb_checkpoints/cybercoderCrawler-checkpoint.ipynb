{
 "cells": [
  {
   "cell_type": "code",
   "execution_count": null,
   "metadata": {},
   "outputs": [],
   "source": [
    "total = []\n",
    "List = ['data scientist', 'data analyst','data engineer']\n",
    "for item in List:\n",
    "    for i in range(19):\n",
    "        i = i+1\n",
    "        url = 'https://www.cybercoders.com/search/?'\n",
    "        parameters = dict(page=i,filtertype='permanent',searchterms=item)\n",
    "        response = requests.get(url,params = parameters)\n",
    "        time.sleep(1)\n",
    "        tree = html.fromstring(response.content)\n",
    "        titleelements=tree.xpath('//div[@class=\"job-title\"]/a')\n",
    "        total.append(titleelements)"
   ]
  },
  {
   "cell_type": "code",
   "execution_count": null,
   "metadata": {},
   "outputs": [],
   "source": [
    "import requests\n",
    "import pandas as pd\n",
    "import lxml.html as html\n",
    "import re\n",
    "import time"
   ]
  },
  {
   "cell_type": "code",
   "execution_count": null,
   "metadata": {
    "scrolled": false
   },
   "outputs": [],
   "source": [
    "total"
   ]
  },
  {
   "cell_type": "code",
   "execution_count": null,
   "metadata": {},
   "outputs": [],
   "source": [
    "flattened = []\n",
    "for sublist in total:\n",
    "    for val in sublist:\n",
    "        flattened.append(val)\n",
    "len(flattened)"
   ]
  },
  {
   "cell_type": "code",
   "execution_count": null,
   "metadata": {
    "scrolled": false
   },
   "outputs": [],
   "source": [
    "flattened"
   ]
  },
  {
   "cell_type": "code",
   "execution_count": null,
   "metadata": {},
   "outputs": [],
   "source": [
    "flattened[0]"
   ]
  },
  {
   "cell_type": "code",
   "execution_count": null,
   "metadata": {},
   "outputs": [],
   "source": [
    "Titles=[]\n",
    "Links =[]\n",
    "for titletag in flattened:\n",
    "    title = titletag.text_content().strip()\n",
    "    link = titletag.items()[0][1]\n",
    "    clickablelink = 'https://www.cybercoders.com' + link\n",
    "    Titles.append(title)\n",
    "    Links.append(clickablelink)"
   ]
  },
  {
   "cell_type": "code",
   "execution_count": null,
   "metadata": {
    "scrolled": true
   },
   "outputs": [],
   "source": [
    "Links"
   ]
  },
  {
   "cell_type": "code",
   "execution_count": null,
   "metadata": {},
   "outputs": [],
   "source": [
    "locationlist = []\n",
    "wagelist = []\n",
    "detaillist = []\n",
    "preferlist = []"
   ]
  },
  {
   "cell_type": "code",
   "execution_count": null,
   "metadata": {},
   "outputs": [],
   "source": [
    "def location(newtree):\n",
    "    loelements=newtree.xpath('//div[@class=\"location\"]')[0]\n",
    "    locationcontent = loelements.text_content().strip()\n",
    "    locationlist.append(locationcontent)"
   ]
  },
  {
   "cell_type": "code",
   "execution_count": null,
   "metadata": {},
   "outputs": [],
   "source": [
    "def wage(newtree):\n",
    "    waelements=newtree.xpath('//div[@class=\"wage\"]')[0]\n",
    "    wagecontent = waelements.text_content().strip()\n",
    "    wagecontent = re.findall('\\d+', wagecontent )\n",
    "    wagelist.append(wagecontent)"
   ]
  },
  {
   "cell_type": "code",
   "execution_count": null,
   "metadata": {},
   "outputs": [],
   "source": [
    "def jobdetail(newtree):\n",
    "    jdelements=newtree.xpath('//div[@class=\"job-details\"]')[0]\n",
    "    detailcontent = jdelements\n",
    "    detaillist.append(detailcontent)"
   ]
  },
  {
   "cell_type": "code",
   "execution_count": null,
   "metadata": {},
   "outputs": [],
   "source": [
    "def preferrefskills(newtree):\n",
    "    preferelements=newtree.xpath('//div[@class=\"skills-section\"]')[0]\n",
    "    prefercontent = preferelements.text_content().strip(' \\t\\n\\r')\n",
    "    preferlist.append(prefercontent)"
   ]
  },
  {
   "cell_type": "code",
   "execution_count": null,
   "metadata": {},
   "outputs": [],
   "source": [
    "What You Will Be Doing"
   ]
  },
  {
   "cell_type": "code",
   "execution_count": null,
   "metadata": {},
   "outputs": [],
   "source": [
    "What You Need for this Position"
   ]
  },
  {
   "cell_type": "code",
   "execution_count": null,
   "metadata": {},
   "outputs": [],
   "source": [
    "What's In It for You"
   ]
  },
  {
   "cell_type": "code",
   "execution_count": null,
   "metadata": {
    "scrolled": true
   },
   "outputs": [],
   "source": [
    "for i in range(len(Links)):\n",
    "    sublink = Links[i]\n",
    "    response = requests.get(sublink)\n",
    "    time.sleep(1)\n",
    "    tree = html.fromstring(response.content)\n",
    "    location(tree)\n",
    "    wage(tree)\n",
    "    jobdetail(tree)\n",
    "    preferrefskills(tree)\n",
    "    i = i+1\n",
    "    print(i)"
   ]
  },
  {
   "cell_type": "code",
   "execution_count": null,
   "metadata": {
    "scrolled": true
   },
   "outputs": [],
   "source": [
    "len(locationlist)"
   ]
  },
  {
   "cell_type": "code",
   "execution_count": null,
   "metadata": {
    "scrolled": false
   },
   "outputs": [],
   "source": [
    "dataframe = pd.DataFrame({'Job Title': Titles,'Location':locationlist, 'Job Salary':wagelist, 'Job Description':detaillist, 'Preferred Skills':preferlist, 'Links':Links},columns = ['Job Title','Location','Job Salary','Job Description','Preferred Skills','Links'])\n",
    "dataframe"
   ]
  },
  {
   "cell_type": "code",
   "execution_count": null,
   "metadata": {},
   "outputs": [],
   "source": [
    "dataframe.to_csv('new cybercoder.csv')"
   ]
  }
 ],
 "metadata": {
  "celltoolbar": "Raw Cell Format",
  "kernelspec": {
   "display_name": "Python 3",
   "language": "python",
   "name": "python3"
  },
  "language_info": {
   "codemirror_mode": {
    "name": "ipython",
    "version": 3
   },
   "file_extension": ".py",
   "mimetype": "text/x-python",
   "name": "python",
   "nbconvert_exporter": "python",
   "pygments_lexer": "ipython3",
   "version": "3.6.4"
  }
 },
 "nbformat": 4,
 "nbformat_minor": 2
}
