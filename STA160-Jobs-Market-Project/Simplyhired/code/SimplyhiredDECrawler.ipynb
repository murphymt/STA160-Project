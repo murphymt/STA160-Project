{
 "cells": [
  {
   "cell_type": "code",
   "execution_count": null,
   "metadata": {},
   "outputs": [],
   "source": [
    "import requests\n",
    "import pandas as pd\n",
    "import lxml.html as html\n",
    "import re\n",
    "import time"
   ]
  },
  {
   "cell_type": "code",
   "execution_count": null,
   "metadata": {},
   "outputs": [],
   "source": [
    "url = 'https://www.simplyhired.com/search?'\n",
    "tree = []\n",
    "for i in range(3183):\n",
    "    i = i +1\n",
    "    parameters = dict(q='data engineer',pn = i, jt='fulltime')\n",
    "    time.sleep(2)\n",
    "    response = requests.get(url, params=parameters)\n",
    "    tree.append(html.fromstring(response.content))\n",
    "    print(i, response.url)"
   ]
  },
  {
   "cell_type": "code",
   "execution_count": null,
   "metadata": {},
   "outputs": [],
   "source": [
    "titles =[]\n",
    "links = []\n",
    "companies = []\n",
    "locations = []\n",
    "snippets = []\n",
    "salaries = []"
   ]
  },
  {
   "cell_type": "code",
   "execution_count": null,
   "metadata": {},
   "outputs": [],
   "source": [
    "for i in range(len(tree)):\n",
    "    titleandlink(i)\n",
    "    company(i)\n",
    "    location(i)\n",
    "    snippet(i)\n",
    "    salary(i)"
   ]
  },
  {
   "cell_type": "code",
   "execution_count": null,
   "metadata": {},
   "outputs": [],
   "source": [
    "def titleandlink(num):\n",
    "    titleandlinkelements=tree[num].xpath('//h2[@class=\"jobposting-title\"]/a')\n",
    "    for atag in titleandlinkelements:\n",
    "        jobtitle=atag.text_content().strip()\n",
    "        joblink = atag.items()[3][1]\n",
    "        clickablelink = response.url + joblink\n",
    "        titles.append(jobtitle)\n",
    "        links.append(clickablelink)\n",
    "\n",
    "def company(num):  \n",
    "    companyelements = tree[num].xpath('//span[@class=\"jobposting-company\"]')\n",
    "    for companytag in companyelements:\n",
    "        companyname = companytag.text_content().strip()\n",
    "        companies.append(companyname)\n",
    "\n",
    "def location(num):\n",
    "    locationelements = tree[num].xpath('//span[@itemprop=\"address\"]/span[@class=\"jobposting-location\"]')\n",
    "    for locationtag in locationelements:\n",
    "        locationname = locationtag.text_content().strip()\n",
    "        locations.append(locationname)\n",
    "\n",
    "def snippet(num):\n",
    "    snippetelements = tree[num].xpath('//p[@class=\"jobposting-snippet\"]')\n",
    "    for snippettag in snippetelements:\n",
    "        snippetname = snippettag.text_content().strip()\n",
    "        snippets.append(snippetname)\n",
    "\n",
    "def salary(num):\n",
    "    salaryelements = tree[num].xpath('//div[@class=\"jobposting-timesource\"]')\n",
    "    for salarytag in salaryelements:\n",
    "        salaryname = salarytag.text_content().strip()\n",
    "        salaries.append(salaryname)\n",
    "\n"
   ]
  },
  {
   "cell_type": "code",
   "execution_count": null,
   "metadata": {},
   "outputs": [],
   "source": [
    "dataframe = pd.DataFrame({'Job Title': titles,'Company': companies,'Location':locations, 'Job Salary':salaries, 'Snippets':snippets, 'Description links':links},columns = ['Job Title','Company','Location','Job Salary','Snippets','Description links'])\n",
    "dataframe"
   ]
  },
  {
   "cell_type": "code",
   "execution_count": null,
   "metadata": {},
   "outputs": [],
   "source": [
    "cd Desktop/"
   ]
  },
  {
   "cell_type": "code",
   "execution_count": null,
   "metadata": {},
   "outputs": [],
   "source": [
    "dataframe.to_csv('simplyhired dataengineer.csv')"
   ]
  },
  {
   "cell_type": "code",
   "execution_count": null,
   "metadata": {},
   "outputs": [],
   "source": []
  }
 ],
 "metadata": {
  "kernelspec": {
   "display_name": "Python 3",
   "language": "python",
   "name": "python3"
  },
  "language_info": {
   "codemirror_mode": {
    "name": "ipython",
    "version": 3
   },
   "file_extension": ".py",
   "mimetype": "text/x-python",
   "name": "python",
   "nbconvert_exporter": "python",
   "pygments_lexer": "ipython3",
   "version": "3.6.4"
  }
 },
 "nbformat": 4,
 "nbformat_minor": 2
}
