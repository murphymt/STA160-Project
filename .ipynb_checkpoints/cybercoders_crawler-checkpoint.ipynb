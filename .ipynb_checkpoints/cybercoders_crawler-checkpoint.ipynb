{
 "cells": [
  {
   "cell_type": "code",
   "execution_count": 1,
   "metadata": {},
   "outputs": [],
   "source": [
    "import requests_cache\n",
    "import lxml.html as lx\n",
    "from urllib.request import urlopen\n",
    "from bs4 import BeautifulSoup\n",
    "\n",
    "%matplotlib inline\n",
    "\n",
    "requests_cache.install_cache(\"cache\")"
   ]
  },
  {
   "cell_type": "markdown",
   "metadata": {},
   "source": [
    "# Cybercoders.com Links"
   ]
  },
  {
   "cell_type": "markdown",
   "metadata": {},
   "source": [
    "### Links"
   ]
  },
  {
   "cell_type": "code",
   "execution_count": 2,
   "metadata": {},
   "outputs": [],
   "source": [
    "analyst_url = \"https://www.cybercoders.com/jobs/analyst-jobs/?page=\" # Analyst Jobs\n",
    "data_url = \"https://www.cybercoders.com/jobs/data-jobs/?page=\" # Data Jobs\n",
    "BA_url = \"https://www.cybercoders.com/jobs/business-analyst-jobs/?page=\" # Business Analyst Jobs\n",
    "big_data_url = \"https://www.cybercoders.com/jobs/big-data-jobs/?page=\" # Big Data Jobs\n",
    "BI_url = \"https://www.cybercoders.com/jobs/business-intelligence-jobs/?page=\" # Business Intelligence Jobs"
   ]
  },
  {
   "cell_type": "code",
   "execution_count": null,
   "metadata": {},
   "outputs": [],
   "source": [
    "def links(url, page):\n",
    "    \"\"\"\n",
    "    (Purpose) \n",
    "    This function takes the URL for cybercoders job and the number of pages to be scraped\n",
    "    and returns the URLs for the job listings on each page.\n",
    "\n",
    "    (Args)\n",
    "    (url) : url for job type , page : number of pages to be webscraped (searched manually)\n",
    "    \n",
    "    Job Types:\n",
    "    - Analyst Jobs\n",
    "    - Data Jobs\n",
    "    - Business Analyst Jobs\n",
    "    - Big Data Jobs\n",
    "    - Business Intelligence Jobs\n",
    "\n",
    "    (Returns)\n",
    "    A list of the URLs for each article on each page of \"Cybercoders\"\n",
    "    \"\"\"\n",
    "    \n",
    "    job_links = []\n",
    "    \n",
    "    for i in range(1,page+1):\n",
    "        open_url = urlopen(url + str(i))\n",
    "        parse_page = BeautifulSoup(open_url, \"lxml\")\n",
    "        content_list = parse_page.find_all(name = \"div\", attrs = {\"class\" : \"job-title\"})\n",
    "\n",
    "        for j in range(len(content_list)):\n",
    "            job = content_list[j].find_all(\"a\")[0].attrs[\"href\"]\n",
    "            job_links.append(\"https://www.cybercoders.com\" + job)\n",
    "            \n",
    "    return job_links"
   ]
  },
  {
   "cell_type": "code",
   "execution_count": null,
   "metadata": {},
   "outputs": [],
   "source": [
    "analyst_links = links(analyst_url, 10)\n",
    "data_links = links(data_url, 36)\n",
    "BA_links = links(BA_url, 3)\n",
    "big_data_links = links(big_data_url, 8)\n",
    "BI_links = links(BI_url, 4)"
   ]
  },
  {
   "cell_type": "code",
   "execution_count": null,
   "metadata": {},
   "outputs": [],
   "source": [
    "# total number of links extracted -> NOT UNIQUE\n",
    "len(analyst_links) + len(data_links) + len(BA_links) + len(big_data_links) + len(BI_links)"
   ]
  },
  {
   "cell_type": "code",
   "execution_count": null,
   "metadata": {},
   "outputs": [],
   "source": [
    "ulinks = list(set(analyst_links + data_links + BA_links + big_data_links + BI_links))\n",
    "len(ulinks) # total number of links extracted -> UNIQUE"
   ]
  },
  {
   "cell_type": "code",
   "execution_count": null,
   "metadata": {},
   "outputs": [],
   "source": [
    "ulinks"
   ]
  },
  {
   "cell_type": "code",
   "execution_count": null,
   "metadata": {},
   "outputs": [],
   "source": [
    "demo_open = urlopen('https://www.cybercoders.com/data-scientist-job-414707')\n",
    "demo_parse = BeautifulSoup(demo_open, \"lxml\")\n",
    "demo_content = demo_parse.select(\"h1.subhead\")[0].text.strip()"
   ]
  },
  {
   "cell_type": "code",
   "execution_count": null,
   "metadata": {},
   "outputs": [],
   "source": [
    "demo_content"
   ]
  }
 ],
 "metadata": {
  "kernelspec": {
   "display_name": "Python 3",
   "language": "python",
   "name": "python3"
  },
  "language_info": {
   "codemirror_mode": {
    "name": "ipython",
    "version": 3
   },
   "file_extension": ".py",
   "mimetype": "text/x-python",
   "name": "python",
   "nbconvert_exporter": "python",
   "pygments_lexer": "ipython3",
   "version": "3.6.4"
  }
 },
 "nbformat": 4,
 "nbformat_minor": 2
}
