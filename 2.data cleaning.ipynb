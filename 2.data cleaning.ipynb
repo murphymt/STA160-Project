{
 "cells": [
  {
   "cell_type": "code",
   "execution_count": 43,
   "metadata": {
    "collapsed": true
   },
   "outputs": [],
   "source": [
    "import pandas as pd\n",
    "import numpy as np"
   ]
  },
  {
   "cell_type": "code",
   "execution_count": 44,
   "metadata": {
    "collapsed": true
   },
   "outputs": [],
   "source": [
    "df = pd.read_csv('cybercoder.csv')"
   ]
  },
  {
   "cell_type": "code",
   "execution_count": 45,
   "metadata": {
    "collapsed": true
   },
   "outputs": [],
   "source": [
    "df = df.drop('Unnamed: 0', 1)"
   ]
  },
  {
   "cell_type": "code",
   "execution_count": 46,
   "metadata": {},
   "outputs": [
    {
     "name": "stdout",
     "output_type": "stream",
     "text": [
      "525 5\n"
     ]
    }
   ],
   "source": [
    "n,m = df.shape\n",
    "print(n,m)"
   ]
  },
  {
   "cell_type": "code",
   "execution_count": 47,
   "metadata": {
    "collapsed": true
   },
   "outputs": [],
   "source": [
    "df.columns = ['Title', 'Location', 'Salary', 'Description', 'Skills']"
   ]
  },
  {
   "cell_type": "code",
   "execution_count": 48,
   "metadata": {},
   "outputs": [
    {
     "data": {
      "text/html": [
       "<div>\n",
       "<style scoped>\n",
       "    .dataframe tbody tr th:only-of-type {\n",
       "        vertical-align: middle;\n",
       "    }\n",
       "\n",
       "    .dataframe tbody tr th {\n",
       "        vertical-align: top;\n",
       "    }\n",
       "\n",
       "    .dataframe thead th {\n",
       "        text-align: right;\n",
       "    }\n",
       "</style>\n",
       "<table border=\"1\" class=\"dataframe\">\n",
       "  <thead>\n",
       "    <tr style=\"text-align: right;\">\n",
       "      <th></th>\n",
       "      <th>Title</th>\n",
       "      <th>Location</th>\n",
       "      <th>Salary</th>\n",
       "      <th>Description</th>\n",
       "      <th>Skills</th>\n",
       "    </tr>\n",
       "  </thead>\n",
       "  <tbody>\n",
       "    <tr>\n",
       "      <th>0</th>\n",
       "      <td>Data Scientist</td>\n",
       "      <td>Santa Monica, CA</td>\n",
       "      <td>['100', '140']</td>\n",
       "      <td>We are a stealth automotive financial technolo...</td>\n",
       "      <td>Preferred Skills              ...</td>\n",
       "    </tr>\n",
       "    <tr>\n",
       "      <th>1</th>\n",
       "      <td>Data Scientist</td>\n",
       "      <td>New York City, NY</td>\n",
       "      <td>['150', '250']</td>\n",
       "      <td>If you are a Data Scientist with an interest i...</td>\n",
       "      <td>Preferred Skills              ...</td>\n",
       "    </tr>\n",
       "    <tr>\n",
       "      <th>2</th>\n",
       "      <td>Data Scientist</td>\n",
       "      <td>San Jose, CA</td>\n",
       "      <td>[]</td>\n",
       "      <td>San Jose, CA, US- RELOCATION INCLUDED! **Your ...</td>\n",
       "      <td>Preferred Skills              ...</td>\n",
       "    </tr>\n",
       "    <tr>\n",
       "      <th>3</th>\n",
       "      <td>Data Scientist</td>\n",
       "      <td>San Jose, CA</td>\n",
       "      <td>[]</td>\n",
       "      <td>San Jose, CA, US- RELOCATION INCLUDED! **Your ...</td>\n",
       "      <td>Preferred Skills              ...</td>\n",
       "    </tr>\n",
       "    <tr>\n",
       "      <th>4</th>\n",
       "      <td>Data Scientist</td>\n",
       "      <td>New York City, NY</td>\n",
       "      <td>['120', '175']</td>\n",
       "      <td>If you are a Data Scientist with SQL and Model...</td>\n",
       "      <td>Preferred Skills              ...</td>\n",
       "    </tr>\n",
       "  </tbody>\n",
       "</table>\n",
       "</div>"
      ],
      "text/plain": [
       "            Title           Location          Salary  \\\n",
       "0  Data Scientist   Santa Monica, CA  ['100', '140']   \n",
       "1  Data Scientist  New York City, NY  ['150', '250']   \n",
       "2  Data Scientist       San Jose, CA              []   \n",
       "3  Data Scientist       San Jose, CA              []   \n",
       "4  Data Scientist  New York City, NY  ['120', '175']   \n",
       "\n",
       "                                         Description  \\\n",
       "0  We are a stealth automotive financial technolo...   \n",
       "1  If you are a Data Scientist with an interest i...   \n",
       "2  San Jose, CA, US- RELOCATION INCLUDED! **Your ...   \n",
       "3  San Jose, CA, US- RELOCATION INCLUDED! **Your ...   \n",
       "4  If you are a Data Scientist with SQL and Model...   \n",
       "\n",
       "                                              Skills  \n",
       "0                  Preferred Skills              ...  \n",
       "1                  Preferred Skills              ...  \n",
       "2                  Preferred Skills              ...  \n",
       "3                  Preferred Skills              ...  \n",
       "4                  Preferred Skills              ...  "
      ]
     },
     "execution_count": 48,
     "metadata": {},
     "output_type": "execute_result"
    }
   ],
   "source": [
    "df.head()"
   ]
  },
  {
   "cell_type": "code",
   "execution_count": 49,
   "metadata": {
    "collapsed": true
   },
   "outputs": [],
   "source": [
    "def descrip_clean(colname):\n",
    "    lists = ['*','\\r','\\n','Applicants must be authorized to work in the U.S.']\n",
    "    for i in range(n):\n",
    "        for j in lists:\n",
    "            df[colname][i] = df[colname][i].replace(j,'')\n",
    "    return df[colname]"
   ]
  },
  {
   "cell_type": "code",
   "execution_count": 50,
   "metadata": {
    "collapsed": true
   },
   "outputs": [],
   "source": [
    "def skills_clean(colname):\n",
    "    for i in range(n):\n",
    "        df[colname][i] = df[colname][i].replace('Preferred Skills','')\n",
    "        df[colname][i] = df[colname][i].replace('     ','')\n",
    "        df[colname][i] = df[colname][i].split('  ')\n",
    "        length = len(df[colname][i])\n",
    "        df[colname][i] = ' ,'.join(df[colname][i][2:length-3])\n",
    "    return df[colname]"
   ]
  },
  {
   "cell_type": "code",
   "execution_count": 51,
   "metadata": {
    "collapsed": true
   },
   "outputs": [],
   "source": [
    "df['Description'] = descrip_clean('Description')\n",
    "df['Skills'] = skills_clean('Skills')"
   ]
  },
  {
   "cell_type": "markdown",
   "metadata": {},
   "source": [
    "Deleste duplicated data."
   ]
  },
  {
   "cell_type": "code",
   "execution_count": 52,
   "metadata": {
    "collapsed": true
   },
   "outputs": [],
   "source": [
    "for i in range(0,n-3):\n",
    "    for j in range(i+1,n-2):\n",
    "        if df['Description'][i] == df['Description'][j]:\n",
    "            df['Description'][j] =''    "
   ]
  },
  {
   "cell_type": "code",
   "execution_count": 53,
   "metadata": {
    "collapsed": true
   },
   "outputs": [],
   "source": [
    "df = df[df['Description']!='']"
   ]
  },
  {
   "cell_type": "code",
   "execution_count": 54,
   "metadata": {},
   "outputs": [
    {
     "name": "stdout",
     "output_type": "stream",
     "text": [
      "453 5\n"
     ]
    }
   ],
   "source": [
    "n,m = df.shape\n",
    "print(n,m)"
   ]
  },
  {
   "cell_type": "code",
   "execution_count": 55,
   "metadata": {},
   "outputs": [
    {
     "data": {
      "text/html": [
       "<div>\n",
       "<style scoped>\n",
       "    .dataframe tbody tr th:only-of-type {\n",
       "        vertical-align: middle;\n",
       "    }\n",
       "\n",
       "    .dataframe tbody tr th {\n",
       "        vertical-align: top;\n",
       "    }\n",
       "\n",
       "    .dataframe thead th {\n",
       "        text-align: right;\n",
       "    }\n",
       "</style>\n",
       "<table border=\"1\" class=\"dataframe\">\n",
       "  <thead>\n",
       "    <tr style=\"text-align: right;\">\n",
       "      <th></th>\n",
       "      <th>Title</th>\n",
       "      <th>Location</th>\n",
       "      <th>Salary</th>\n",
       "      <th>Description</th>\n",
       "      <th>Skills</th>\n",
       "    </tr>\n",
       "  </thead>\n",
       "  <tbody>\n",
       "    <tr>\n",
       "      <th>0</th>\n",
       "      <td>Data Scientist</td>\n",
       "      <td>Santa Monica, CA</td>\n",
       "      <td>['100', '140']</td>\n",
       "      <td>We are a stealth automotive financial technolo...</td>\n",
       "      <td>Machine Learning , Python</td>\n",
       "    </tr>\n",
       "    <tr>\n",
       "      <th>1</th>\n",
       "      <td>Data Scientist</td>\n",
       "      <td>New York City, NY</td>\n",
       "      <td>['150', '250']</td>\n",
       "      <td>If you are a Data Scientist with an interest i...</td>\n",
       "      <td>Data Science , Machine Learning , Python</td>\n",
       "    </tr>\n",
       "    <tr>\n",
       "      <th>2</th>\n",
       "      <td>Data Scientist</td>\n",
       "      <td>San Jose, CA</td>\n",
       "      <td>[]</td>\n",
       "      <td>San Jose, CA, US- RELOCATION INCLUDED! Your ap...</td>\n",
       "      <td>Data Science , Applied Research , Hadoop/MapRe...</td>\n",
       "    </tr>\n",
       "    <tr>\n",
       "      <th>3</th>\n",
       "      <td>Data Scientist</td>\n",
       "      <td>New York City, NY</td>\n",
       "      <td>['120', '175']</td>\n",
       "      <td>If you are a Data Scientist with SQL and Model...</td>\n",
       "      <td>SQL , Cloud-based environment , Data Mining</td>\n",
       "    </tr>\n",
       "    <tr>\n",
       "      <th>4</th>\n",
       "      <td>Data Scientist</td>\n",
       "      <td>San Francisco, CA</td>\n",
       "      <td>['110', '175']</td>\n",
       "      <td>If you are a Data Scientist with 4+ years data...</td>\n",
       "      <td>Data Science , Machine Learning , R , Python ,...</td>\n",
       "    </tr>\n",
       "  </tbody>\n",
       "</table>\n",
       "</div>"
      ],
      "text/plain": [
       "            Title           Location          Salary  \\\n",
       "0  Data Scientist   Santa Monica, CA  ['100', '140']   \n",
       "1  Data Scientist  New York City, NY  ['150', '250']   \n",
       "2  Data Scientist       San Jose, CA              []   \n",
       "3  Data Scientist  New York City, NY  ['120', '175']   \n",
       "4  Data Scientist  San Francisco, CA  ['110', '175']   \n",
       "\n",
       "                                         Description  \\\n",
       "0  We are a stealth automotive financial technolo...   \n",
       "1  If you are a Data Scientist with an interest i...   \n",
       "2  San Jose, CA, US- RELOCATION INCLUDED! Your ap...   \n",
       "3  If you are a Data Scientist with SQL and Model...   \n",
       "4  If you are a Data Scientist with 4+ years data...   \n",
       "\n",
       "                                              Skills  \n",
       "0                          Machine Learning , Python  \n",
       "1           Data Science , Machine Learning , Python  \n",
       "2  Data Science , Applied Research , Hadoop/MapRe...  \n",
       "3        SQL , Cloud-based environment , Data Mining  \n",
       "4  Data Science , Machine Learning , R , Python ,...  "
      ]
     },
     "execution_count": 55,
     "metadata": {},
     "output_type": "execute_result"
    }
   ],
   "source": [
    "df = df.drop(df.index[[2]])\n",
    "df = df.reset_index(drop=True)\n",
    "df.head()"
   ]
  },
  {
   "cell_type": "code",
   "execution_count": 56,
   "metadata": {
    "collapsed": true
   },
   "outputs": [],
   "source": [
    "df['KeyWord'] = ['Data_Scientist'] * 83 + ['Data_Analyst'] * 47 + ['Data_Engineer']*322"
   ]
  },
  {
   "cell_type": "code",
   "execution_count": 59,
   "metadata": {},
   "outputs": [],
   "source": [
    "df = df[['KeyWord','Title', 'Location', 'Salary','Description']]"
   ]
  },
  {
   "cell_type": "code",
   "execution_count": 60,
   "metadata": {
    "collapsed": true
   },
   "outputs": [],
   "source": [
    "df.to_csv('cybercoder_final.csv',index=False)"
   ]
  }
 ],
 "metadata": {
  "kernelspec": {
   "display_name": "Python 3",
   "language": "python",
   "name": "python3"
  },
  "language_info": {
   "codemirror_mode": {
    "name": "ipython",
    "version": 3
   },
   "file_extension": ".py",
   "mimetype": "text/x-python",
   "name": "python",
   "nbconvert_exporter": "python",
   "pygments_lexer": "ipython3",
   "version": "3.6.4"
  }
 },
 "nbformat": 4,
 "nbformat_minor": 2
}
